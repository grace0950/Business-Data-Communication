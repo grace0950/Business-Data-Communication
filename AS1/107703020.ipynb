{
 "cells": [
  {
   "cell_type": "code",
   "execution_count": 1,
   "id": "a93840e4",
   "metadata": {
    "scrolled": true
   },
   "outputs": [],
   "source": [
    "# import the socket library provided by Python\n",
    "# theoretically, you can only use the socket library to create an Internet server/client\n",
    "# however, the socket library is a low-level library\n",
    "# it may not easy to use socket library only to create complicated network-based apps\n",
    "\n",
    "# if you are interested in all functions provided by Python, see this\n",
    "# https://docs.python.org/3.7/library/socket.html\n",
    "\n",
    "import socket\n",
    "# As a server, we would like to serve multiple clients\n",
    "# so we use one thread to serve one client\n",
    "# threading is a python library that can spawn multiple threads in a single app (process)\n",
    "\n",
    "import threading\n",
    "\n",
    "# create socket instance\n",
    "# socket.AF_INET is a constant value that indicates I want to use IP (Internet Protocol) as my L3 protocol\n",
    "# socket.SOCK_STREAM is a constant value that indicates I want to use TCP as my L4 protocol\n",
    "\n",
    "s = socket.socket(socket.AF_INET, socket.SOCK_STREAM)\n",
    "\n",
    "# ask the OS to bind the created socket to user-specified parameters: (IP, TCP port)\n",
    "# the 1st parameter is the binded IP, the 2nd parameter is the binded port number\n",
    "# So that when the OS receives a datagram, the OS knows how to demux the datagram to the corresponding application \n",
    "\n",
    "pars = ('127.0.0.1', 7777) # you can change the server port to whatever you want\n",
    "s.bind(pars)\n",
    "\n",
    "# become a server socket\n",
    "# it makes this python program waiting for receiving message\n",
    "# listen() function has one parameter that limits how many clients can be connected to this server\n",
    "# we set it to 5 without any reason\n",
    "# you can change it to any number you want, as long as you have sufficient resources (computing, memory)\n",
    "\n",
    "s.listen(5)\n",
    "\n",
    "# a new thread is created for every new accepted client\n",
    "# every new thread starts from the function below\n",
    "\n"
   ]
  },
  {
   "cell_type": "code",
   "execution_count": 2,
   "id": "36b620e4",
   "metadata": {},
   "outputs": [],
   "source": [
    "from urllib.parse import unquote, quote\n",
    "\n",
    "# this class is copy from others library that already on the internet\n",
    "# in order to make py homework execute simpler and easier, I only copy the code that I need this time\n",
    "class Request:\n",
    "    def __init__(self, r):\n",
    "        self.content = r\n",
    "        self.method = r.split()[0]\n",
    "        self.path = r.split()[1]\n",
    "        self.body = r.split('\\r\\n\\r\\n', 1)[1]\n",
    "\n",
    "    def form_body(self):\n",
    "        return self._parse_parameter(self.body)\n",
    "\n",
    "    def parse_path(self):\n",
    "        index = self.path.find('?')\n",
    "        if index == -1:\n",
    "            return self.path, {}\n",
    "        else:\n",
    "            path, query_string = self.path.split('?', 1)\n",
    "            query = self._parse_parameter(query_string)\n",
    "            return path, query\n",
    "\n",
    "    # the method to access header porperty\n",
    "    @property\n",
    "    def headers(self):\n",
    "        header_content = self.content.split('\\r\\n\\r\\n', 1)[0].split('\\r\\n')[1:]\n",
    "        result = {}\n",
    "        for line in header_content:\n",
    "            k, v = line.split(': ')\n",
    "            result[quote(k)] = quote(v)\n",
    "        return result\n",
    "\n",
    "    # the method only use in this class \n",
    "    @staticmethod\n",
    "    def _parse_parameter(parameters):\n",
    "        args = parameters.split('&')\n",
    "        query = {}\n",
    "        for arg in args:\n",
    "            k, v = arg.split('=')\n",
    "            query[k] = unquote(v)\n",
    "        return query"
   ]
  },
  {
   "cell_type": "code",
   "execution_count": 3,
   "id": "0d61efe1",
   "metadata": {},
   "outputs": [],
   "source": [
    "import os\n",
    "def response_for_request(request):\n",
    "    # make the absolute path of the directory\n",
    "    path = os.getcwd()\n",
    "    path += request.parse_path()[0]\n",
    "    print(path)\n",
    "\n",
    "    # send different response refer to different homework request\n",
    "    if request.parse_path()[0] == \"/redirect.html\":\n",
    "        return \"HTTP/1.1 301 Moved Permanently\\nContent-Type: text/html\\nLocation: /good.html\\n\\n\".encode('utf-8')\n",
    "    elif request.parse_path()[0] == \"/good.html\":\n",
    "        return \"HTTP/1.1 200 OK\\nContent-Type: text/html\\nContent-Length: 106\\n\\n<html><head><link href=\\\"/style.css\\\" rel=\\\"stylesheet\\\" type=\\\"text/css\\\"></head><body>good</body></html>\".encode('utf-8')\n",
    "    elif request.parse_path()[0] == \"/style.css\":\n",
    "        return \"HTTP/1.1 200 OK\\nContent-Type: text/css\\nContent-Length: 18\\n\\nBody {color: red;}\".encode('utf-8')\n",
    "    else:\n",
    "        return \"HTTP/1.1 404 Not Found\\nContent-Type: text/html\\nContent-Length: 51\\n\\n<html><body>Error 404: File not found</body></html>\".encode('utf-8')"
   ]
  },
  {
   "cell_type": "code",
   "execution_count": 4,
   "id": "a5941e32",
   "metadata": {},
   "outputs": [],
   "source": [
    "def serveClient(clientsocket, address):\n",
    "    \n",
    "    # we need a loop to continuously receive messages from the client\n",
    "    while True:\n",
    "        # then receive at most 1024 bytes message and store these bytes in a variable named 'data'\n",
    "        # you can set the buffer size to any value you like\n",
    "        data = clientsocket.recv(1024).decode()\n",
    "        print(\"from client\", data)\n",
    "        \n",
    "        # if the received data is not empty, then we send something back by using send() function\n",
    "        # use the response_for_request function\n",
    "        if data:\n",
    "            data2 = Request(data)\n",
    "            print(response_for_request(data2))\n",
    "            clientsocket.send(response_for_request(data2))\n",
    "            "
   ]
  },
  {
   "cell_type": "code",
   "execution_count": null,
   "id": "6db8e978",
   "metadata": {
    "scrolled": true
   },
   "outputs": [],
   "source": [
    "# since at most we can serve many clients (5 in this example), we need a way to distinguish them \n",
    "# as mentioned in the class, TCP use 4-tuple (src IP, dst IP, src port, dst port) to distinguish a socket\n",
    "# we use accept() function to confirm that we connect to the client socket\n",
    "# and accept() function will return the client's socket instance and IP\n",
    "# we need a loop to keep accepting new clients (until 5 clients are accepted)\n",
    "\n",
    "while True:\n",
    "    # accept a new client and get it's information\n",
    "    (clientsocket, address) = s.accept()\n",
    "    \n",
    "    # create a new thread to serve this new client\n",
    "    # after the thread is created, it will start to execute 'target' function with arguments 'args' \n",
    "    threading.Thread(target = serveClient, args = (clientsocket, address)).start()"
   ]
  },
  {
   "cell_type": "code",
   "execution_count": null,
   "id": "e43845cc",
   "metadata": {},
   "outputs": [],
   "source": []
  }
 ],
 "metadata": {
  "kernelspec": {
   "display_name": "Python 3.10.7 64-bit",
   "language": "python",
   "name": "python3"
  },
  "language_info": {
   "codemirror_mode": {
    "name": "ipython",
    "version": 3
   },
   "file_extension": ".py",
   "mimetype": "text/x-python",
   "name": "python",
   "nbconvert_exporter": "python",
   "pygments_lexer": "ipython3",
   "version": "3.10.7"
  },
  "vscode": {
   "interpreter": {
    "hash": "b0fa6594d8f4cbf19f97940f81e996739fb7646882a419484c72d19e05852a7e"
   }
  }
 },
 "nbformat": 4,
 "nbformat_minor": 5
}
