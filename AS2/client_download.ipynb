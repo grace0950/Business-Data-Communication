{
 "cells": [
  {
   "cell_type": "code",
   "execution_count": 4,
   "id": "e6060d5e",
   "metadata": {},
   "outputs": [],
   "source": [
    "import os\n",
    "import struct\n",
    "import socket"
   ]
  },
  {
   "cell_type": "code",
   "execution_count": 5,
   "id": "2c35a4e8",
   "metadata": {},
   "outputs": [],
   "source": [
    "#Main function\n",
    "def main():\n",
    "    \n",
    "    g_server_ip = input(\"Please key in the IP to download(If your server is local, key in 127.0.0.1)：\")\n",
    "    g_downloadFileName = input(\"Please key in the file's name(ex: Test.txt)：\")\n",
    "    print(g_server_ip, g_downloadFileName)\n",
    "    \n",
    "    # Packing\n",
    "    # struct.pack(fmt, v1, v2, ...): Encapsulate data into strings according to the given format(fmt) \n",
    "    # !: Indicates that we want to use network character order parsing because our data is received from the network. \n",
    "    #    When transmitting on the network, it is the network character order. \n",
    "    # H: The following H indicates the id of an unsigned short.\n",
    "    # unsign short:16bits\n",
    "    # s: char[]\n",
    "    # b: signed char\n",
    "    # There can be one number before each format, indicating the number\n",
    "    sendDataFirst = struct.pack('!H%dsb5sb'%len(g_downloadFileName), 1, g_downloadFileName.encode('ascii'), 0, 'octet'.encode('ascii'), 0)\n",
    "    \n",
    "    # Create a UDP socket\n",
    "    # AF_INET: Let two hosts transmit data through the network. AF_INET uses the IPv4 protocol.\n",
    "    # SOCK_DGRAM: The datagram is provided one by one, and the corresponding protocol is UDP.\n",
    "    s = socket.socket(socket.AF_INET, socket.SOCK_DGRAM)\n",
    "\n",
    "    # Send download file request data to specified service\n",
    "    # 6969: port number\n",
    "    s.sendto(sendDataFirst, (g_server_ip, 6969)) #First send, connect to tftp server\n",
    "    \n",
    "    # Indicates that the data can be downloaded, if it is false then delete the file\n",
    "    downloadFlag = True\n",
    "    # Indicates the serial number of the received file\n",
    "    fileNum = 0 \n",
    "    \n",
    "    # Open file in binary format\n",
    "    f = open(g_downloadFileName, 'wb')\n",
    "    \n",
    "    while True:\n",
    "        # Receive response data sent back by the server\n",
    "        recvData, serverInfo = s.recvfrom(1024)\n",
    "#         print(recvData)\n",
    "\n",
    "        # Unpacking\n",
    "        packetOpt = struct.unpack(\"!H\", recvData[:2])  #Opcode\n",
    "        packetNum = struct.unpack(\"!H\", recvData[2:4]) #Block number\n",
    "        \n",
    "        print(packetOpt, packetNum)\n",
    "        \n",
    "        # Received packet\n",
    "        if packetOpt[0] == 3: #Opcode is a tuple(3,), and 3 means DATA\n",
    "            # Calculate the serial number of this file, which is the last received +1\n",
    "            fileNum += 1\n",
    "\n",
    "            # fileNum exceeded 65535 trigger block counter roll-over\n",
    "            if fileNum == 65536:\n",
    "                fileNum = 0\n",
    "            \n",
    "            # Whether the packet number is equal to the previous time\n",
    "            if fileNum == packetNum[0]:\n",
    "                f.write(recvData[4:]) #Write into file\n",
    "\n",
    "            # Organize ACK packets\n",
    "            ackData = struct.pack(\"!HH\", 4, packetNum[0])\n",
    "            s.sendto(ackData, serverInfo)\n",
    "            \n",
    "        # Error response\n",
    "        elif packetOpt[0] == 5: # 5 means error happen\n",
    "            print(\"Sorry, there is no this file!\")\n",
    "            downloadFlag = False # Delete the file\n",
    "            break\n",
    "\n",
    "        else:\n",
    "            print(packetOpt[0])\n",
    "            break\n",
    "            \n",
    "        # The reception is completed and the program is exited\n",
    "        if len(recvData) < 516:\n",
    "            downloadFlag = True\n",
    "            print(\"%s File download completed!\"%g_downloadFileName)\n",
    "            break\n",
    "            \n",
    "    if downloadFlag == True:\n",
    "        f.close()\n",
    "    else:\n",
    "        #If there is no downloaded file, delete the file you just created.\n",
    "        f.close()\n",
    "        os.remove(g_downloadFileName) "
   ]
  },
  {
   "cell_type": "code",
   "execution_count": 6,
   "id": "75aee5ef",
   "metadata": {},
   "outputs": [
    {
     "name": "stdout",
     "output_type": "stream",
     "text": [
      "Please key in the IP to download(If your server is local, key in 127.0.0.1)：127.0.0.1\n",
      "Please key in the file's name(ex: Test.txt)：bigfile.txt\n",
      "127.0.0.1 bigfile.txt\n",
      "b'\\x00\\x03\\x00\\x01'\n",
      "(3,) (1,)\n",
      "bigfile.txt File download completed!\n"
     ]
    }
   ],
   "source": [
    "# Call the main function\n",
    "if __name__ == '__main__':\n",
    "    main()"
   ]
  },
  {
   "cell_type": "code",
   "execution_count": null,
   "id": "66435bac",
   "metadata": {},
   "outputs": [],
   "source": []
  }
 ],
 "metadata": {
  "kernelspec": {
   "display_name": "Python 3 (ipykernel)",
   "language": "python",
   "name": "python3"
  },
  "language_info": {
   "codemirror_mode": {
    "name": "ipython",
    "version": 3
   },
   "file_extension": ".py",
   "mimetype": "text/x-python",
   "name": "python",
   "nbconvert_exporter": "python",
   "pygments_lexer": "ipython3",
   "version": "3.10.7"
  }
 },
 "nbformat": 4,
 "nbformat_minor": 5
}
